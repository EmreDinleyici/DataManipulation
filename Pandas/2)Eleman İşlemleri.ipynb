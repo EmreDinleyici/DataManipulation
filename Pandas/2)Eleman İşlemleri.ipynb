{
 "cells": [
  {
   "cell_type": "markdown",
   "id": "b6eab935-7366-45a3-ac8f-11193d5c1abd",
   "metadata": {},
   "source": [
    "# Eleman İşlemleri"
   ]
  },
  {
   "cell_type": "code",
   "execution_count": 2,
   "id": "9fe757e0-9e80-4e83-bb61-92259d1e807a",
   "metadata": {},
   "outputs": [],
   "source": [
    "import numpy as np\n",
    "import pandas as pd"
   ]
  },
  {
   "cell_type": "code",
   "execution_count": 3,
   "id": "66fc58f5-63fc-479b-8732-b1436af8607a",
   "metadata": {},
   "outputs": [
    {
     "data": {
      "text/plain": [
       "0    11\n",
       "1    45\n",
       "2    78\n",
       "3    69\n",
       "4    99\n",
       "dtype: int32"
      ]
     },
     "execution_count": 3,
     "metadata": {},
     "output_type": "execute_result"
    }
   ],
   "source": [
    "# Her türlü veri tipi seri yapılabilir\n",
    "a = np.array([11,45,78,69,99])\n",
    "seri = pd.Series(a)\n",
    "seri"
   ]
  },
  {
   "cell_type": "code",
   "execution_count": 4,
   "id": "2a1e296f-3bde-4497-b75c-e1d1c676b5d8",
   "metadata": {},
   "outputs": [
    {
     "data": {
      "text/plain": [
       "11"
      ]
     },
     "execution_count": 4,
     "metadata": {},
     "output_type": "execute_result"
    }
   ],
   "source": [
    "seri[0]"
   ]
  },
  {
   "cell_type": "code",
   "execution_count": 5,
   "id": "9454c765-fba2-4c08-90d8-0ff8d01a6309",
   "metadata": {},
   "outputs": [
    {
     "data": {
      "text/plain": [
       "0    11\n",
       "1    45\n",
       "2    78\n",
       "dtype: int32"
      ]
     },
     "execution_count": 5,
     "metadata": {},
     "output_type": "execute_result"
    }
   ],
   "source": [
    "seri[0:3]"
   ]
  },
  {
   "cell_type": "code",
   "execution_count": 6,
   "id": "8658ba9e-cb14-43df-99fe-07005e226b0c",
   "metadata": {},
   "outputs": [
    {
     "data": {
      "text/plain": [
       "reg    120\n",
       "log    456\n",
       "cus    789\n",
       "rf     741\n",
       "dtype: int64"
      ]
     },
     "execution_count": 6,
     "metadata": {},
     "output_type": "execute_result"
    }
   ],
   "source": [
    "seri = pd.Series([120,456,789,741], index=[\"reg\", \"log\", \"cus\", \"rf\"])\n",
    "seri"
   ]
  },
  {
   "cell_type": "code",
   "execution_count": 7,
   "id": "95d94d8c-94fd-4913-b8f0-43219e52bf4d",
   "metadata": {},
   "outputs": [
    {
     "data": {
      "text/plain": [
       "Index(['reg', 'log', 'cus', 'rf'], dtype='object')"
      ]
     },
     "execution_count": 7,
     "metadata": {},
     "output_type": "execute_result"
    }
   ],
   "source": [
    "seri.index"
   ]
  },
  {
   "cell_type": "code",
   "execution_count": 8,
   "id": "af670f7b-ac9c-43e5-bf30-43e2f3449657",
   "metadata": {},
   "outputs": [
    {
     "data": {
      "text/plain": [
       "<bound method Series.keys of reg    120\n",
       "log    456\n",
       "cus    789\n",
       "rf     741\n",
       "dtype: int64>"
      ]
     },
     "execution_count": 8,
     "metadata": {},
     "output_type": "execute_result"
    }
   ],
   "source": [
    "seri.keys"
   ]
  },
  {
   "cell_type": "code",
   "execution_count": 9,
   "id": "da7a1e85-6b28-40d0-80c7-8383287c5d12",
   "metadata": {},
   "outputs": [
    {
     "data": {
      "text/plain": [
       "[('reg', 120), ('log', 456), ('cus', 789), ('rf', 741)]"
      ]
     },
     "execution_count": 9,
     "metadata": {},
     "output_type": "execute_result"
    }
   ],
   "source": [
    "#list almazsak zip şeklinde verir\n",
    "list(seri.items())"
   ]
  },
  {
   "cell_type": "code",
   "execution_count": 10,
   "id": "844f737d-6716-4d9f-9ceb-f2dcd8a9f268",
   "metadata": {},
   "outputs": [
    {
     "data": {
      "text/plain": [
       "array([120, 456, 789, 741], dtype=int64)"
      ]
     },
     "execution_count": 10,
     "metadata": {},
     "output_type": "execute_result"
    }
   ],
   "source": [
    "seri.values"
   ]
  },
  {
   "cell_type": "markdown",
   "id": "8fd9520d-cebb-4223-84c2-4961f74d44d9",
   "metadata": {},
   "source": [
    "## Eleman Sorgulama"
   ]
  },
  {
   "cell_type": "code",
   "execution_count": 12,
   "id": "eeea3475-5ff5-432e-91aa-c9f05e7836d5",
   "metadata": {},
   "outputs": [
    {
     "data": {
      "text/plain": [
       "True"
      ]
     },
     "execution_count": 12,
     "metadata": {},
     "output_type": "execute_result"
    }
   ],
   "source": [
    "\"reg\" in seri"
   ]
  },
  {
   "cell_type": "code",
   "execution_count": 13,
   "id": "1aadfb19-a7da-4dcd-9f2a-1f90261af6e6",
   "metadata": {},
   "outputs": [
    {
     "data": {
      "text/plain": [
       "False"
      ]
     },
     "execution_count": 13,
     "metadata": {},
     "output_type": "execute_result"
    }
   ],
   "source": [
    "\"a\" in seri"
   ]
  },
  {
   "cell_type": "code",
   "execution_count": 14,
   "id": "dfd7d0b4-6be0-45a6-ac02-50eacae9b20d",
   "metadata": {},
   "outputs": [
    {
     "data": {
      "text/plain": [
       "120"
      ]
     },
     "execution_count": 14,
     "metadata": {},
     "output_type": "execute_result"
    }
   ],
   "source": [
    "seri[\"reg\"]"
   ]
  },
  {
   "cell_type": "code",
   "execution_count": 15,
   "id": "d80833e1-fc8d-4563-ab63-b6bad01e16a2",
   "metadata": {},
   "outputs": [
    {
     "data": {
      "text/plain": [
       "130"
      ]
     },
     "execution_count": 15,
     "metadata": {},
     "output_type": "execute_result"
    }
   ],
   "source": [
    "seri[\"reg\"] = 130\n",
    "seri[\"reg\"]"
   ]
  },
  {
   "cell_type": "code",
   "execution_count": 16,
   "id": "9acf5cbb-e937-4dd8-964a-f7521db78579",
   "metadata": {},
   "outputs": [],
   "source": [
    "#Fancy Eleman seçme"
   ]
  },
  {
   "cell_type": "code",
   "execution_count": 17,
   "id": "6483fc5e-6c68-4505-b80b-887b70e0eeab",
   "metadata": {},
   "outputs": [
    {
     "data": {
      "text/plain": [
       "reg    130\n",
       "log    456\n",
       "dtype: int64"
      ]
     },
     "execution_count": 17,
     "metadata": {},
     "output_type": "execute_result"
    }
   ],
   "source": [
    "seri[[\"reg\", \"log\"]]"
   ]
  },
  {
   "cell_type": "code",
   "execution_count": 18,
   "id": "98c317a4-7b54-44db-8108-ec1daa0c04f9",
   "metadata": {},
   "outputs": [
    {
     "data": {
      "text/plain": [
       "reg    130\n",
       "log    456\n",
       "cus    789\n",
       "dtype: int64"
      ]
     },
     "execution_count": 18,
     "metadata": {},
     "output_type": "execute_result"
    }
   ],
   "source": [
    "seri[\"reg\":\"cus\"]"
   ]
  },
  {
   "cell_type": "code",
   "execution_count": null,
   "id": "90f86107-654b-4d10-9bd3-49f9b3ec2433",
   "metadata": {},
   "outputs": [],
   "source": []
  }
 ],
 "metadata": {
  "kernelspec": {
   "display_name": "Python 3 (ipykernel)",
   "language": "python",
   "name": "python3"
  },
  "language_info": {
   "codemirror_mode": {
    "name": "ipython",
    "version": 3
   },
   "file_extension": ".py",
   "mimetype": "text/x-python",
   "name": "python",
   "nbconvert_exporter": "python",
   "pygments_lexer": "ipython3",
   "version": "3.12.4"
  }
 },
 "nbformat": 4,
 "nbformat_minor": 5
}
