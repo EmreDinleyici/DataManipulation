{
 "cells": [
  {
   "cell_type": "markdown",
   "id": "1e882d90-4764-4e00-bfbb-6a8639d93b7e",
   "metadata": {},
   "source": [
    "# Pandas Serisi Oluşturmak"
   ]
  },
  {
   "cell_type": "code",
   "execution_count": 2,
   "id": "bb52e778-b8d1-4a00-9421-f5693e6316da",
   "metadata": {},
   "outputs": [],
   "source": [
    "import pandas as pd"
   ]
  },
  {
   "cell_type": "code",
   "execution_count": 3,
   "id": "fc6b5a7d-8723-43f5-b4ce-038a42f26998",
   "metadata": {},
   "outputs": [
    {
     "data": {
      "text/plain": [
       "0    10\n",
       "1    20\n",
       "2    30\n",
       "3    40\n",
       "4    50\n",
       "5    60\n",
       "dtype: int64"
      ]
     },
     "execution_count": 3,
     "metadata": {},
     "output_type": "execute_result"
    }
   ],
   "source": [
    "# Numpay arraylerinden farklı olarak index bilgiside tutulur. Değerleri indexleri ile birlikte tutar\n",
    "seri = pd.Series([10,20,30,40,50,60])\n",
    "seri"
   ]
  },
  {
   "cell_type": "code",
   "execution_count": 4,
   "id": "db5e7eec-5f5e-425c-a084-39311d3ae490",
   "metadata": {},
   "outputs": [
    {
     "data": {
      "text/plain": [
       "pandas.core.series.Series"
      ]
     },
     "execution_count": 4,
     "metadata": {},
     "output_type": "execute_result"
    }
   ],
   "source": [
    "type(seri)"
   ]
  },
  {
   "cell_type": "code",
   "execution_count": 5,
   "id": "c2f68fa3-9e50-40d8-8ce3-d0108d7bf6e9",
   "metadata": {},
   "outputs": [
    {
     "data": {
      "text/plain": [
       "[RangeIndex(start=0, stop=6, step=1)]"
      ]
     },
     "execution_count": 5,
     "metadata": {},
     "output_type": "execute_result"
    }
   ],
   "source": [
    "#axes diyerek serinin index bilgilerine ulaşırız\n",
    "seri.axes"
   ]
  },
  {
   "cell_type": "code",
   "execution_count": 6,
   "id": "45e76cb0-d84c-413f-b215-fecb06c9bf1a",
   "metadata": {},
   "outputs": [
    {
     "data": {
      "text/plain": [
       "dtype('int64')"
      ]
     },
     "execution_count": 6,
     "metadata": {},
     "output_type": "execute_result"
    }
   ],
   "source": [
    "seri.dtype"
   ]
  },
  {
   "cell_type": "code",
   "execution_count": 7,
   "id": "32c0086f-807d-49db-8ae6-c0c5aa2ecda2",
   "metadata": {},
   "outputs": [
    {
     "data": {
      "text/plain": [
       "6"
      ]
     },
     "execution_count": 7,
     "metadata": {},
     "output_type": "execute_result"
    }
   ],
   "source": [
    "seri.size"
   ]
  },
  {
   "cell_type": "code",
   "execution_count": 8,
   "id": "18fe4a93-0ce7-4a43-b4b9-26fa8a34329f",
   "metadata": {},
   "outputs": [
    {
     "data": {
      "text/plain": [
       "1"
      ]
     },
     "execution_count": 8,
     "metadata": {},
     "output_type": "execute_result"
    }
   ],
   "source": [
    "seri.ndim"
   ]
  },
  {
   "cell_type": "code",
   "execution_count": 9,
   "id": "3511146a-1e05-499e-962c-c4de50b3f389",
   "metadata": {},
   "outputs": [
    {
     "data": {
      "text/plain": [
       "array([10, 20, 30, 40, 50, 60], dtype=int64)"
      ]
     },
     "execution_count": 9,
     "metadata": {},
     "output_type": "execute_result"
    }
   ],
   "source": [
    "# array formunda sadece değer bilgisine erişilebilir. Vektör olarak ulaşma\n",
    "seri.values"
   ]
  },
  {
   "cell_type": "code",
   "execution_count": 10,
   "id": "46decdf1-46c0-4247-87d3-2bc561b0053f",
   "metadata": {},
   "outputs": [
    {
     "data": {
      "text/plain": [
       "0    10\n",
       "1    20\n",
       "2    30\n",
       "3    40\n",
       "4    50\n",
       "dtype: int64"
      ]
     },
     "execution_count": 10,
     "metadata": {},
     "output_type": "execute_result"
    }
   ],
   "source": [
    "# serinin ilk beş elemanını gösterir argüman vererek sayı değiştirilebilir\n",
    "seri.head()"
   ]
  },
  {
   "cell_type": "code",
   "execution_count": 11,
   "id": "95af6ea9-6074-41a3-9ebd-b264a2c581fa",
   "metadata": {},
   "outputs": [
    {
     "data": {
      "text/plain": [
       "0    10\n",
       "1    20\n",
       "2    30\n",
       "dtype: int64"
      ]
     },
     "execution_count": 11,
     "metadata": {},
     "output_type": "execute_result"
    }
   ],
   "source": [
    "seri.head(3)"
   ]
  },
  {
   "cell_type": "code",
   "execution_count": 12,
   "id": "6f7ad654-c210-4e40-b40e-fc6077e768a2",
   "metadata": {},
   "outputs": [
    {
     "data": {
      "text/plain": [
       "4    50\n",
       "5    60\n",
       "dtype: int64"
      ]
     },
     "execution_count": 12,
     "metadata": {},
     "output_type": "execute_result"
    }
   ],
   "source": [
    "# Headin tam tersi serinin son elemanlarını gösterir\n",
    "seri.tail(2)"
   ]
  },
  {
   "cell_type": "markdown",
   "id": "4324194f-9a39-4a2b-a64d-309ae1ece44c",
   "metadata": {},
   "source": [
    "## Index İsimlendirmesi"
   ]
  },
  {
   "cell_type": "code",
   "execution_count": 14,
   "id": "af2ed673-d3ac-4a78-aeb0-b5cc1efbd264",
   "metadata": {},
   "outputs": [
    {
     "data": {
      "text/plain": [
       "1     99\n",
       "3    456\n",
       "5     74\n",
       "7     12\n",
       "9      5\n",
       "dtype: int64"
      ]
     },
     "execution_count": 14,
     "metadata": {},
     "output_type": "execute_result"
    }
   ],
   "source": [
    "#index argümanı ile indexleri değiştirebiliriz\n",
    "pd.Series([99,456,74,12,5], index=[1,3,5,7,9])"
   ]
  },
  {
   "cell_type": "code",
   "execution_count": 15,
   "id": "b42bb23e-d5d8-46d4-8b7e-cc9506ed011c",
   "metadata": {},
   "outputs": [
    {
     "data": {
      "text/plain": [
       "a     99\n",
       "b    456\n",
       "c     74\n",
       "d     12\n",
       "e      5\n",
       "dtype: int64"
      ]
     },
     "execution_count": 15,
     "metadata": {},
     "output_type": "execute_result"
    }
   ],
   "source": [
    "seri = pd.Series([99,456,74,12,5], index=[\"a\", \"b\", \"c\", \"d\", \"e\"])\n",
    "seri"
   ]
  },
  {
   "cell_type": "code",
   "execution_count": 16,
   "id": "c31d2b70-e8f2-416b-a76e-1e5aeecae39b",
   "metadata": {},
   "outputs": [
    {
     "data": {
      "text/plain": [
       "99"
      ]
     },
     "execution_count": 16,
     "metadata": {},
     "output_type": "execute_result"
    }
   ],
   "source": [
    "seri[\"a\"]"
   ]
  },
  {
   "cell_type": "code",
   "execution_count": 17,
   "id": "7b402d4c-0db3-4078-84b3-d902a6d5eb73",
   "metadata": {},
   "outputs": [
    {
     "data": {
      "text/plain": [
       "a     99\n",
       "b    456\n",
       "c     74\n",
       "dtype: int64"
      ]
     },
     "execution_count": 17,
     "metadata": {},
     "output_type": "execute_result"
    }
   ],
   "source": [
    "seri[\"a\":\"c\"]"
   ]
  },
  {
   "cell_type": "markdown",
   "id": "79727808-727b-4274-bc67-327486c2b540",
   "metadata": {},
   "source": [
    "## Sözlük üzerinden liste oluşturmak"
   ]
  },
  {
   "cell_type": "code",
   "execution_count": 19,
   "id": "7ea990dc-4f37-4aee-a281-f65a4951967a",
   "metadata": {},
   "outputs": [
    {
     "data": {
      "text/plain": [
       "reg     10\n",
       "log     11\n",
       "cart    12\n",
       "dtype: int64"
      ]
     },
     "execution_count": 19,
     "metadata": {},
     "output_type": "execute_result"
    }
   ],
   "source": [
    "sözlük = pd.Series({\"reg\":10, \"log\":11, \"cart\":12})\n",
    "sözlük"
   ]
  },
  {
   "cell_type": "code",
   "execution_count": 20,
   "id": "4ffa0073-96bd-4708-92ad-1982819ddfc9",
   "metadata": {},
   "outputs": [
    {
     "data": {
      "text/plain": [
       "10"
      ]
     },
     "execution_count": 20,
     "metadata": {},
     "output_type": "execute_result"
    }
   ],
   "source": [
    "sözlük[\"reg\"]"
   ]
  },
  {
   "cell_type": "code",
   "execution_count": 21,
   "id": "04f38793-4e82-4f5e-850e-87d0d6aea94b",
   "metadata": {},
   "outputs": [],
   "source": [
    "#İki seriyi birleştirerek yeni seri oluşturma"
   ]
  },
  {
   "cell_type": "code",
   "execution_count": 22,
   "id": "2486f46b-9a8e-4a05-ba41-dce550936da1",
   "metadata": {},
   "outputs": [
    {
     "data": {
      "text/plain": [
       "a        99\n",
       "b       456\n",
       "c        74\n",
       "d        12\n",
       "e         5\n",
       "reg      10\n",
       "log      11\n",
       "cart     12\n",
       "dtype: int64"
      ]
     },
     "execution_count": 22,
     "metadata": {},
     "output_type": "execute_result"
    }
   ],
   "source": [
    "m = pd.concat([seri, sözlük])\n",
    "m"
   ]
  },
  {
   "cell_type": "code",
   "execution_count": 23,
   "id": "7b50ea39-5f9a-475a-bb84-1cb43150cb1e",
   "metadata": {},
   "outputs": [
    {
     "data": {
      "text/plain": [
       "array([ 99, 456,  74,  12,   5,  10,  11,  12], dtype=int64)"
      ]
     },
     "execution_count": 23,
     "metadata": {},
     "output_type": "execute_result"
    }
   ],
   "source": [
    "m.values"
   ]
  },
  {
   "cell_type": "code",
   "execution_count": 24,
   "id": "b842daa2-d74b-4c5c-8820-38835cd21531",
   "metadata": {},
   "outputs": [
    {
     "data": {
      "text/plain": [
       "Index(['a', 'b', 'c', 'd', 'e', 'reg', 'log', 'cart'], dtype='object')"
      ]
     },
     "execution_count": 24,
     "metadata": {},
     "output_type": "execute_result"
    }
   ],
   "source": [
    "m.keys()"
   ]
  },
  {
   "cell_type": "code",
   "execution_count": null,
   "id": "5084534b-c618-4b41-99b5-1717a9f973d6",
   "metadata": {},
   "outputs": [],
   "source": []
  }
 ],
 "metadata": {
  "kernelspec": {
   "display_name": "Python 3 (ipykernel)",
   "language": "python",
   "name": "python3"
  },
  "language_info": {
   "codemirror_mode": {
    "name": "ipython",
    "version": 3
   },
   "file_extension": ".py",
   "mimetype": "text/x-python",
   "name": "python",
   "nbconvert_exporter": "python",
   "pygments_lexer": "ipython3",
   "version": "3.12.4"
  }
 },
 "nbformat": 4,
 "nbformat_minor": 5
}
