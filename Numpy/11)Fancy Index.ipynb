{
 "cells": [
  {
   "cell_type": "markdown",
   "id": "a9982b59-2d9a-4d7c-84a0-8b3ec278a90a",
   "metadata": {},
   "source": [
    "# Fancy Index ile elemanlara erişmek"
   ]
  },
  {
   "cell_type": "code",
   "execution_count": 2,
   "id": "658ded03-84a1-49a6-a9f6-0fefd8a84648",
   "metadata": {},
   "outputs": [],
   "source": [
    "import numpy as np"
   ]
  },
  {
   "cell_type": "code",
   "execution_count": 3,
   "id": "a1bd48eb-0177-4224-868b-7de91bb5da95",
   "metadata": {},
   "outputs": [
    {
     "data": {
      "text/plain": [
       "array([ 0,  3,  6,  9, 12, 15, 18, 21, 24, 27])"
      ]
     },
     "execution_count": 3,
     "metadata": {},
     "output_type": "execute_result"
    }
   ],
   "source": [
    "v = np.arange(0,30,3)\n",
    "v"
   ]
  },
  {
   "cell_type": "code",
   "execution_count": 4,
   "id": "7a69301f-90f5-419b-ad52-055d6808b7fa",
   "metadata": {},
   "outputs": [
    {
     "data": {
      "text/plain": [
       "3"
      ]
     },
     "execution_count": 4,
     "metadata": {},
     "output_type": "execute_result"
    }
   ],
   "source": [
    "v[1]"
   ]
  },
  {
   "cell_type": "code",
   "execution_count": 5,
   "id": "9e2dd33c-4a35-4470-85d9-bc962b9924df",
   "metadata": {},
   "outputs": [
    {
     "data": {
      "text/plain": [
       "9"
      ]
     },
     "execution_count": 5,
     "metadata": {},
     "output_type": "execute_result"
    }
   ],
   "source": [
    "v[3]"
   ]
  },
  {
   "cell_type": "code",
   "execution_count": 6,
   "id": "b4225dd7-269a-4151-85c9-4bf279c07a1e",
   "metadata": {},
   "outputs": [
    {
     "data": {
      "text/plain": [
       "15"
      ]
     },
     "execution_count": 6,
     "metadata": {},
     "output_type": "execute_result"
    }
   ],
   "source": [
    "v[5]"
   ]
  },
  {
   "cell_type": "code",
   "execution_count": 7,
   "id": "aadd4e2e-ae2c-4213-857e-209690200d29",
   "metadata": {},
   "outputs": [
    {
     "data": {
      "text/plain": [
       "[3, 9, 15]"
      ]
     },
     "execution_count": 7,
     "metadata": {},
     "output_type": "execute_result"
    }
   ],
   "source": [
    "# Yan yana gösterme bu şekilde yapılır\n",
    "[v[1], v[3], v[5]]"
   ]
  },
  {
   "cell_type": "code",
   "execution_count": 8,
   "id": "d56a66b4-9995-44d8-ab4f-ce3a9d113be4",
   "metadata": {},
   "outputs": [],
   "source": [
    "# bu şekilde kullanıma fancy index denir\n",
    "al_getir = [1,3,5]"
   ]
  },
  {
   "cell_type": "code",
   "execution_count": 9,
   "id": "05c40b43-931e-4987-b391-03d40cc3da1d",
   "metadata": {},
   "outputs": [
    {
     "data": {
      "text/plain": [
       "array([ 3,  9, 15])"
      ]
     },
     "execution_count": 9,
     "metadata": {},
     "output_type": "execute_result"
    }
   ],
   "source": [
    "v[al_getir]"
   ]
  },
  {
   "cell_type": "markdown",
   "id": "0b0576f2-f469-4e8c-8a5d-bbf0162e029a",
   "metadata": {},
   "source": [
    "## İki boyutta fancy index"
   ]
  },
  {
   "cell_type": "code",
   "execution_count": 11,
   "id": "39661f2c-5853-454e-9063-00e0df999fae",
   "metadata": {},
   "outputs": [
    {
     "data": {
      "text/plain": [
       "array([[0, 1, 2],\n",
       "       [3, 4, 5],\n",
       "       [6, 7, 8]])"
      ]
     },
     "execution_count": 11,
     "metadata": {},
     "output_type": "execute_result"
    }
   ],
   "source": [
    "m = np.arange(9).reshape((3,3))\n",
    "m"
   ]
  },
  {
   "cell_type": "code",
   "execution_count": 12,
   "id": "e40a7421-aba0-4de2-a836-51f40d49bcb3",
   "metadata": {},
   "outputs": [
    {
     "data": {
      "text/plain": [
       "array([1, 5])"
      ]
     },
     "execution_count": 12,
     "metadata": {},
     "output_type": "execute_result"
    }
   ],
   "source": [
    "#satir = np.array([0,1]) # bu şekilde de yapılabilir\n",
    "satir = [0,1]\n",
    "sütun = [1,2]\n",
    "m[satir, sütun]"
   ]
  },
  {
   "cell_type": "code",
   "execution_count": 13,
   "id": "f667920c-4b34-4df1-975a-d3d6d1d93d83",
   "metadata": {},
   "outputs": [],
   "source": [
    "# Basit index ile fancy index"
   ]
  },
  {
   "cell_type": "code",
   "execution_count": 14,
   "id": "00bad8be-7dae-4acd-8a45-d7da752b5f5d",
   "metadata": {},
   "outputs": [
    {
     "data": {
      "text/plain": [
       "array([[0, 1, 2],\n",
       "       [3, 4, 5],\n",
       "       [6, 7, 8]])"
      ]
     },
     "execution_count": 14,
     "metadata": {},
     "output_type": "execute_result"
    }
   ],
   "source": [
    "m"
   ]
  },
  {
   "cell_type": "code",
   "execution_count": 15,
   "id": "53079c11-b1e8-4376-b4ce-f8b5b5bf2cbb",
   "metadata": {},
   "outputs": [
    {
     "data": {
      "text/plain": [
       "array([1, 2])"
      ]
     },
     "execution_count": 15,
     "metadata": {},
     "output_type": "execute_result"
    }
   ],
   "source": [
    "m[0, [1,2]]"
   ]
  },
  {
   "cell_type": "code",
   "execution_count": 16,
   "id": "29b201b2-ad0e-46c0-8a5d-1940c8548e6c",
   "metadata": {},
   "outputs": [],
   "source": [
    "# Slice ile fancy"
   ]
  },
  {
   "cell_type": "code",
   "execution_count": 17,
   "id": "9a02b7de-2c2b-42c6-a80b-36ce6babcba2",
   "metadata": {},
   "outputs": [
    {
     "data": {
      "text/plain": [
       "array([[1, 2],\n",
       "       [4, 5],\n",
       "       [7, 8]])"
      ]
     },
     "execution_count": 17,
     "metadata": {},
     "output_type": "execute_result"
    }
   ],
   "source": [
    "m[0:, [1,2]]"
   ]
  },
  {
   "cell_type": "code",
   "execution_count": null,
   "id": "51e418d2-527f-4a98-b627-adbf4b9023b3",
   "metadata": {},
   "outputs": [],
   "source": []
  }
 ],
 "metadata": {
  "kernelspec": {
   "display_name": "Python 3 (ipykernel)",
   "language": "python",
   "name": "python3"
  },
  "language_info": {
   "codemirror_mode": {
    "name": "ipython",
    "version": 3
   },
   "file_extension": ".py",
   "mimetype": "text/x-python",
   "name": "python",
   "nbconvert_exporter": "python",
   "pygments_lexer": "ipython3",
   "version": "3.12.4"
  }
 },
 "nbformat": 4,
 "nbformat_minor": 5
}
