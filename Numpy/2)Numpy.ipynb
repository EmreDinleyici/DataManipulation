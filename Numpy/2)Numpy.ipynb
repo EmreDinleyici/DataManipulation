{
 "cells": [
  {
   "cell_type": "markdown",
   "id": "69f33fc1-3fe1-4dbb-8c0b-360ad6e52d17",
   "metadata": {},
   "source": [
    "# Numpy Array'i Oluşturmak"
   ]
  },
  {
   "cell_type": "code",
   "execution_count": 2,
   "id": "351583a1-43bd-4804-8d39-8f00aed6a676",
   "metadata": {},
   "outputs": [],
   "source": [
    "import numpy as np"
   ]
  },
  {
   "cell_type": "code",
   "execution_count": 3,
   "id": "9ad0ee95-50b1-41af-9f7e-c46f5d588cd2",
   "metadata": {},
   "outputs": [
    {
     "data": {
      "text/plain": [
       "array([1, 2, 3, 4, 5])"
      ]
     },
     "execution_count": 3,
     "metadata": {},
     "output_type": "execute_result"
    }
   ],
   "source": [
    "np.array([1,2,3,4,5])"
   ]
  },
  {
   "cell_type": "code",
   "execution_count": 4,
   "id": "8bb5228d-b2ef-4612-b70d-788e6d2e5112",
   "metadata": {},
   "outputs": [],
   "source": [
    "a = np.array([1,2,3,4,5])"
   ]
  },
  {
   "cell_type": "code",
   "execution_count": 5,
   "id": "af6e86d1-9182-4812-9a59-794da76506d9",
   "metadata": {},
   "outputs": [
    {
     "data": {
      "text/plain": [
       "numpy.ndarray"
      ]
     },
     "execution_count": 5,
     "metadata": {},
     "output_type": "execute_result"
    }
   ],
   "source": [
    "type(a)"
   ]
  },
  {
   "cell_type": "code",
   "execution_count": 6,
   "id": "f925642c-2ec1-4400-86bb-d5a7c0a4e14a",
   "metadata": {},
   "outputs": [
    {
     "data": {
      "text/plain": [
       "array([3, 2, 3, 4, 9])"
      ]
     },
     "execution_count": 6,
     "metadata": {},
     "output_type": "execute_result"
    }
   ],
   "source": [
    "np.array([3.14, 2, 3, 4, 9], dtype = \"int\")"
   ]
  },
  {
   "cell_type": "markdown",
   "id": "5d3807f9-f6f7-46f0-a624-47b45f5f77da",
   "metadata": {},
   "source": [
    "## Sıfırdan Array Oluşturma"
   ]
  },
  {
   "cell_type": "code",
   "execution_count": 8,
   "id": "fec08a37-45fb-40e0-803d-88004d7c9759",
   "metadata": {},
   "outputs": [
    {
     "data": {
      "text/plain": [
       "array([0, 0, 0, 0, 0, 0, 0, 0, 0, 0])"
      ]
     },
     "execution_count": 8,
     "metadata": {},
     "output_type": "execute_result"
    }
   ],
   "source": [
    "np.zeros(10, dtype = 'int')"
   ]
  },
  {
   "cell_type": "code",
   "execution_count": 9,
   "id": "b897a4c6-c47e-497c-aeb0-cfab1491262d",
   "metadata": {},
   "outputs": [
    {
     "data": {
      "text/plain": [
       "array([[1, 1, 1, 1, 1],\n",
       "       [1, 1, 1, 1, 1],\n",
       "       [1, 1, 1, 1, 1]])"
      ]
     },
     "execution_count": 9,
     "metadata": {},
     "output_type": "execute_result"
    }
   ],
   "source": [
    "np.ones((3,5), dtype='int')"
   ]
  },
  {
   "cell_type": "code",
   "execution_count": 10,
   "id": "70123404-c26e-4304-9486-5ddf9ef9bc9b",
   "metadata": {},
   "outputs": [
    {
     "data": {
      "text/plain": [
       "array([[3, 3, 3, 3, 3],\n",
       "       [3, 3, 3, 3, 3],\n",
       "       [3, 3, 3, 3, 3]])"
      ]
     },
     "execution_count": 10,
     "metadata": {},
     "output_type": "execute_result"
    }
   ],
   "source": [
    "np.full((3,5), 3)"
   ]
  },
  {
   "cell_type": "code",
   "execution_count": 11,
   "id": "e909dc8f-8e63-4cc2-afa3-1a7088f669be",
   "metadata": {},
   "outputs": [
    {
     "data": {
      "text/plain": [
       "array([ 0,  3,  6,  9, 12, 15, 18, 21, 24, 27, 30])"
      ]
     },
     "execution_count": 11,
     "metadata": {},
     "output_type": "execute_result"
    }
   ],
   "source": [
    "#Doğrusal array oluşturma\n",
    "np.arange(0,31,3)"
   ]
  },
  {
   "cell_type": "code",
   "execution_count": 12,
   "id": "832177c1-632a-424a-b24b-f2e088a6be70",
   "metadata": {},
   "outputs": [
    {
     "data": {
      "text/plain": [
       "array([0.        , 0.11111111, 0.22222222, 0.33333333, 0.44444444,\n",
       "       0.55555556, 0.66666667, 0.77777778, 0.88888889, 1.        ])"
      ]
     },
     "execution_count": 12,
     "metadata": {},
     "output_type": "execute_result"
    }
   ],
   "source": [
    "# 0 ile 1 arasında tek boyutlu 10 tane sayı oluşturma\n",
    "np.linspace(0, 1, 10)"
   ]
  },
  {
   "cell_type": "code",
   "execution_count": 13,
   "id": "70a12cf6-4b68-427d-a751-8f5bef50ea1c",
   "metadata": {},
   "outputs": [
    {
     "data": {
      "text/plain": [
       "array([  0,  11,  22,  33,  44,  55,  66,  77,  88, 100])"
      ]
     },
     "execution_count": 13,
     "metadata": {},
     "output_type": "execute_result"
    }
   ],
   "source": [
    "np.linspace(0, 100, 10, dtype=\"int\")"
   ]
  },
  {
   "cell_type": "code",
   "execution_count": 14,
   "id": "f6d280b1-98aa-417d-986b-d1be9215f431",
   "metadata": {},
   "outputs": [
    {
     "data": {
      "text/plain": [
       "array([[17.8764284 , 11.32852508, 13.55167107,  9.08747849],\n",
       "       [ 1.56868336,  8.16192985, 10.4683895 , 10.8539227 ],\n",
       "       [ 7.77709791,  5.56041304, 11.03028758, 16.05601541]])"
      ]
     },
     "execution_count": 14,
     "metadata": {},
     "output_type": "execute_result"
    }
   ],
   "source": [
    "# Rastgele sayılardan oluşacak fakat dağılımını kendimizin belirlediği bir\n",
    "# matris bu şekilde yapılır ortalaması 10 standart sapması 4, kaça kaçlık\n",
    "np.random.normal(10, 4, (3,4))"
   ]
  },
  {
   "cell_type": "code",
   "execution_count": 15,
   "id": "12264e16-a5fc-4c5f-a59c-cdc10a275d43",
   "metadata": {},
   "outputs": [
    {
     "data": {
      "text/plain": [
       "array([[8, 0, 1],\n",
       "       [1, 3, 5],\n",
       "       [0, 5, 6]])"
      ]
     },
     "execution_count": 15,
     "metadata": {},
     "output_type": "execute_result"
    }
   ],
   "source": [
    "# Rastgele integer değerlerden matris üretme\n",
    "np.random.randint(0, 10, (3,3))"
   ]
  },
  {
   "cell_type": "code",
   "execution_count": null,
   "id": "e3b27648-c049-4736-ae14-62e1d0c7df44",
   "metadata": {},
   "outputs": [],
   "source": []
  }
 ],
 "metadata": {
  "kernelspec": {
   "display_name": "Python 3 (ipykernel)",
   "language": "python",
   "name": "python3"
  },
  "language_info": {
   "codemirror_mode": {
    "name": "ipython",
    "version": 3
   },
   "file_extension": ".py",
   "mimetype": "text/x-python",
   "name": "python",
   "nbconvert_exporter": "python",
   "pygments_lexer": "ipython3",
   "version": "3.12.4"
  }
 },
 "nbformat": 4,
 "nbformat_minor": 5
}
