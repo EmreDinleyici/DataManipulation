{
 "cells": [
  {
   "cell_type": "markdown",
   "id": "42b7b7e5-bc80-40e4-977a-8b345ac521cd",
   "metadata": {},
   "source": [
    "# Index ile elemanlara erişmek"
   ]
  },
  {
   "cell_type": "code",
   "execution_count": 2,
   "id": "80090e8c-9062-4c51-b430-a16f29eba9be",
   "metadata": {},
   "outputs": [],
   "source": [
    "import numpy as np"
   ]
  },
  {
   "cell_type": "code",
   "execution_count": 3,
   "id": "9f5fed13-d692-4639-90f6-db0e8cf3ae1b",
   "metadata": {},
   "outputs": [
    {
     "data": {
      "text/plain": [
       "array([5, 3, 7, 1, 3, 0, 8, 9, 5, 3])"
      ]
     },
     "execution_count": 3,
     "metadata": {},
     "output_type": "execute_result"
    }
   ],
   "source": [
    "a = np.random.randint(10, size = 10)\n",
    "a"
   ]
  },
  {
   "cell_type": "code",
   "execution_count": 4,
   "id": "752999c1-6cbf-432e-9fb7-8d091d9dab04",
   "metadata": {},
   "outputs": [
    {
     "data": {
      "text/plain": [
       "5"
      ]
     },
     "execution_count": 4,
     "metadata": {},
     "output_type": "execute_result"
    }
   ],
   "source": [
    "a[0]"
   ]
  },
  {
   "cell_type": "code",
   "execution_count": 5,
   "id": "64560b02-c9b1-4a01-a37b-4b31f5b0ed08",
   "metadata": {},
   "outputs": [
    {
     "data": {
      "text/plain": [
       "3"
      ]
     },
     "execution_count": 5,
     "metadata": {},
     "output_type": "execute_result"
    }
   ],
   "source": [
    "a[-1]"
   ]
  },
  {
   "cell_type": "code",
   "execution_count": 6,
   "id": "f54f126a-dce1-4bc9-95a5-14989c6905d4",
   "metadata": {},
   "outputs": [
    {
     "data": {
      "text/plain": [
       "array([100,   3,   7,   1,   3,   0,   8,   9,   5,   3])"
      ]
     },
     "execution_count": 6,
     "metadata": {},
     "output_type": "execute_result"
    }
   ],
   "source": [
    "a[0] = 100\n",
    "a"
   ]
  },
  {
   "cell_type": "code",
   "execution_count": 7,
   "id": "9c8646d5-bb93-4075-9494-b9da97e20249",
   "metadata": {},
   "outputs": [
    {
     "data": {
      "text/plain": [
       "array([[4, 9, 7, 6, 0],\n",
       "       [7, 6, 2, 3, 8],\n",
       "       [2, 1, 8, 7, 9]])"
      ]
     },
     "execution_count": 7,
     "metadata": {},
     "output_type": "execute_result"
    }
   ],
   "source": [
    "m = np.random.randint(10, size = (3,5))\n",
    "m"
   ]
  },
  {
   "cell_type": "code",
   "execution_count": 8,
   "id": "90a1ff8f-2fa5-47ce-bddc-8c7a05f7ab6f",
   "metadata": {},
   "outputs": [
    {
     "data": {
      "text/plain": [
       "4"
      ]
     },
     "execution_count": 8,
     "metadata": {},
     "output_type": "execute_result"
    }
   ],
   "source": [
    "m[0][0]"
   ]
  },
  {
   "cell_type": "code",
   "execution_count": 9,
   "id": "e1bca861-d5e3-402c-9587-040571fbf7fd",
   "metadata": {},
   "outputs": [
    {
     "data": {
      "text/plain": [
       "6"
      ]
     },
     "execution_count": 9,
     "metadata": {},
     "output_type": "execute_result"
    }
   ],
   "source": [
    "m[1][1]"
   ]
  },
  {
   "cell_type": "code",
   "execution_count": 10,
   "id": "595bd503-dfa8-4ba1-b9bf-7238b0a948a9",
   "metadata": {},
   "outputs": [
    {
     "data": {
      "text/plain": [
       "2"
      ]
     },
     "execution_count": 10,
     "metadata": {},
     "output_type": "execute_result"
    }
   ],
   "source": [
    "m[1][1] = 2\n",
    "m[1][1]"
   ]
  },
  {
   "cell_type": "code",
   "execution_count": null,
   "id": "95d3f29f-0969-4ea2-bb56-1aa28db21ed7",
   "metadata": {},
   "outputs": [],
   "source": []
  }
 ],
 "metadata": {
  "kernelspec": {
   "display_name": "Python 3 (ipykernel)",
   "language": "python",
   "name": "python3"
  },
  "language_info": {
   "codemirror_mode": {
    "name": "ipython",
    "version": 3
   },
   "file_extension": ".py",
   "mimetype": "text/x-python",
   "name": "python",
   "nbconvert_exporter": "python",
   "pygments_lexer": "ipython3",
   "version": "3.12.4"
  }
 },
 "nbformat": 4,
 "nbformat_minor": 5
}
