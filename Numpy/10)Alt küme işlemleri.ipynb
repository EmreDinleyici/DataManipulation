{
 "cells": [
  {
   "cell_type": "markdown",
   "id": "e50fa011-c5a0-4e86-b56d-5abe25a5d9ef",
   "metadata": {},
   "source": [
    "# Alt küme üzerinde işlem yapmak"
   ]
  },
  {
   "cell_type": "code",
   "execution_count": 2,
   "id": "f573ff59-175e-45ec-a76e-9c55e564970e",
   "metadata": {},
   "outputs": [],
   "source": [
    "import numpy as np"
   ]
  },
  {
   "cell_type": "code",
   "execution_count": 3,
   "id": "9bf1f98c-1ab8-42fe-92f3-e9ee183584de",
   "metadata": {},
   "outputs": [
    {
     "data": {
      "text/plain": [
       "array([[7, 8, 3, 7, 8],\n",
       "       [4, 9, 3, 5, 5],\n",
       "       [0, 9, 9, 7, 1],\n",
       "       [6, 9, 5, 3, 3],\n",
       "       [0, 2, 7, 0, 6]])"
      ]
     },
     "execution_count": 3,
     "metadata": {},
     "output_type": "execute_result"
    }
   ],
   "source": [
    "a = np.random.randint(10, size=(5,5))\n",
    "a"
   ]
  },
  {
   "cell_type": "code",
   "execution_count": 4,
   "id": "39a32464-f037-4347-8aa9-c1180e58e88e",
   "metadata": {},
   "outputs": [
    {
     "data": {
      "text/plain": [
       "array([[7, 8],\n",
       "       [4, 9],\n",
       "       [0, 9]])"
      ]
     },
     "execution_count": 4,
     "metadata": {},
     "output_type": "execute_result"
    }
   ],
   "source": [
    "alt_a = a[0:3, 0:2]\n",
    "alt_a"
   ]
  },
  {
   "cell_type": "code",
   "execution_count": 5,
   "id": "27c0f767-0b19-4957-8ab2-00f4bd80b113",
   "metadata": {},
   "outputs": [
    {
     "data": {
      "text/plain": [
       "array([[9999,    8],\n",
       "       [   4,  888],\n",
       "       [   0,    9]])"
      ]
     },
     "execution_count": 5,
     "metadata": {},
     "output_type": "execute_result"
    }
   ],
   "source": [
    "alt_a[0,0] = 9999\n",
    "alt_a[1,1] = 888\n",
    "alt_a"
   ]
  },
  {
   "cell_type": "code",
   "execution_count": 6,
   "id": "87881a61-53e9-4ac3-9eb7-3826b111b7fc",
   "metadata": {},
   "outputs": [
    {
     "data": {
      "text/plain": [
       "array([[9999,    8,    3,    7,    8],\n",
       "       [   4,  888,    3,    5,    5],\n",
       "       [   0,    9,    9,    7,    1],\n",
       "       [   6,    9,    5,    3,    3],\n",
       "       [   0,    2,    7,    0,    6]])"
      ]
     },
     "execution_count": 6,
     "metadata": {},
     "output_type": "execute_result"
    }
   ],
   "source": [
    "#Görüldüğü üzere alt kümede yapılan değişiklikler ana kümeyide etkiler \n",
    "a"
   ]
  },
  {
   "cell_type": "markdown",
   "id": "e329e534-4c0a-4525-a402-8ae04b16cfbd",
   "metadata": {},
   "source": [
    "## Copy kullanarak kullanım etkiden kurtulma"
   ]
  },
  {
   "cell_type": "code",
   "execution_count": 8,
   "id": "664e1570-9855-419a-ab06-9fbb40a92d01",
   "metadata": {},
   "outputs": [
    {
     "data": {
      "text/plain": [
       "array([[6, 3, 5, 6, 1],\n",
       "       [0, 4, 8, 3, 1],\n",
       "       [6, 6, 1, 3, 8],\n",
       "       [6, 1, 5, 5, 7],\n",
       "       [3, 5, 7, 4, 6]])"
      ]
     },
     "execution_count": 8,
     "metadata": {},
     "output_type": "execute_result"
    }
   ],
   "source": [
    "m = np.random.randint(10, size=(5,5))\n",
    "m"
   ]
  },
  {
   "cell_type": "code",
   "execution_count": 9,
   "id": "2e62d4a5-d5b1-483c-86d3-2955df9d4380",
   "metadata": {},
   "outputs": [
    {
     "data": {
      "text/plain": [
       "array([[6, 3],\n",
       "       [0, 4],\n",
       "       [6, 6]])"
      ]
     },
     "execution_count": 9,
     "metadata": {},
     "output_type": "execute_result"
    }
   ],
   "source": [
    "# copy metodu sona eklenirse etkilerden kurtulunur(Ana arrayden bağımsız olur)\n",
    "alt_m = m[0:3, 0:2].copy()\n",
    "alt_m"
   ]
  },
  {
   "cell_type": "code",
   "execution_count": 10,
   "id": "42e9bc57-9e0c-4f9b-8b61-1a1dc83d8f11",
   "metadata": {},
   "outputs": [
    {
     "data": {
      "text/plain": [
       "array([[4444,    3],\n",
       "       [   0,  111],\n",
       "       [   6,    6]])"
      ]
     },
     "execution_count": 10,
     "metadata": {},
     "output_type": "execute_result"
    }
   ],
   "source": [
    "alt_m[0][0] = 4444\n",
    "alt_m[1][1] = 111\n",
    "alt_m"
   ]
  },
  {
   "cell_type": "code",
   "execution_count": 11,
   "id": "227ad158-7359-46a9-a6ef-f4e99f92aa42",
   "metadata": {},
   "outputs": [
    {
     "data": {
      "text/plain": [
       "array([[6, 3, 5, 6, 1],\n",
       "       [0, 4, 8, 3, 1],\n",
       "       [6, 6, 1, 3, 8],\n",
       "       [6, 1, 5, 5, 7],\n",
       "       [3, 5, 7, 4, 6]])"
      ]
     },
     "execution_count": 11,
     "metadata": {},
     "output_type": "execute_result"
    }
   ],
   "source": [
    "m"
   ]
  },
  {
   "cell_type": "code",
   "execution_count": null,
   "id": "0f68ce4a-4add-4856-97a8-cf874ad15d1f",
   "metadata": {},
   "outputs": [],
   "source": []
  }
 ],
 "metadata": {
  "kernelspec": {
   "display_name": "Python 3 (ipykernel)",
   "language": "python",
   "name": "python3"
  },
  "language_info": {
   "codemirror_mode": {
    "name": "ipython",
    "version": 3
   },
   "file_extension": ".py",
   "mimetype": "text/x-python",
   "name": "python",
   "nbconvert_exporter": "python",
   "pygments_lexer": "ipython3",
   "version": "3.12.4"
  }
 },
 "nbformat": 4,
 "nbformat_minor": 5
}
