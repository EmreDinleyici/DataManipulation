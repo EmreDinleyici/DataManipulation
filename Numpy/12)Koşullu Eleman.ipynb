{
 "cells": [
  {
   "cell_type": "markdown",
   "id": "391568a5-42fd-4690-b585-0af4dec8399c",
   "metadata": {},
   "source": [
    "# Koşullu Eleman İşlemleri"
   ]
  },
  {
   "cell_type": "code",
   "execution_count": 2,
   "id": "67fe6388-e232-4a9d-b7c3-d9599de21aac",
   "metadata": {},
   "outputs": [],
   "source": [
    "import numpy as np"
   ]
  },
  {
   "cell_type": "code",
   "execution_count": 3,
   "id": "54b02d02-44a0-4e1f-91bf-e9072056407f",
   "metadata": {},
   "outputs": [
    {
     "data": {
      "text/plain": [
       "array([1, 2, 3, 4, 5])"
      ]
     },
     "execution_count": 3,
     "metadata": {},
     "output_type": "execute_result"
    }
   ],
   "source": [
    "v = np.array([1,2,3,4,5])\n",
    "v"
   ]
  },
  {
   "cell_type": "code",
   "execution_count": 4,
   "id": "623240df-662a-4588-ade9-0580004a22f3",
   "metadata": {},
   "outputs": [
    {
     "data": {
      "text/plain": [
       "array([ True,  True, False, False, False])"
      ]
     },
     "execution_count": 4,
     "metadata": {},
     "output_type": "execute_result"
    }
   ],
   "source": [
    "v < 3"
   ]
  },
  {
   "cell_type": "code",
   "execution_count": 5,
   "id": "2c6c0e9d-6559-457b-a81b-603f5b3c5f20",
   "metadata": {},
   "outputs": [
    {
     "data": {
      "text/plain": [
       "array([1, 2])"
      ]
     },
     "execution_count": 5,
     "metadata": {},
     "output_type": "execute_result"
    }
   ],
   "source": [
    "# Bu koşulu sağlayan elemanları döner \n",
    "v[v<3]"
   ]
  },
  {
   "cell_type": "code",
   "execution_count": 6,
   "id": "b634a09d-3bf8-462b-ac77-ed90ac2d9fa7",
   "metadata": {},
   "outputs": [
    {
     "data": {
      "text/plain": [
       "array([1, 2, 4, 5])"
      ]
     },
     "execution_count": 6,
     "metadata": {},
     "output_type": "execute_result"
    }
   ],
   "source": [
    "v[v != 3] "
   ]
  },
  {
   "cell_type": "code",
   "execution_count": 7,
   "id": "6aa5c831-b1a9-48b4-8b8c-9923c84cf937",
   "metadata": {},
   "outputs": [
    {
     "data": {
      "text/plain": [
       "array([1, 2, 3, 4, 5])"
      ]
     },
     "execution_count": 7,
     "metadata": {},
     "output_type": "execute_result"
    }
   ],
   "source": [
    "v"
   ]
  },
  {
   "cell_type": "code",
   "execution_count": 8,
   "id": "7f398cb5-0412-49fc-9e56-bb84c46a21e2",
   "metadata": {},
   "outputs": [
    {
     "data": {
      "text/plain": [
       "array([ 2,  4,  6,  8, 10])"
      ]
     },
     "execution_count": 8,
     "metadata": {},
     "output_type": "execute_result"
    }
   ],
   "source": [
    "v * 2"
   ]
  }
 ],
 "metadata": {
  "kernelspec": {
   "display_name": "Python 3 (ipykernel)",
   "language": "python",
   "name": "python3"
  },
  "language_info": {
   "codemirror_mode": {
    "name": "ipython",
    "version": 3
   },
   "file_extension": ".py",
   "mimetype": "text/x-python",
   "name": "python",
   "nbconvert_exporter": "python",
   "pygments_lexer": "ipython3",
   "version": "3.12.4"
  }
 },
 "nbformat": 4,
 "nbformat_minor": 5
}
