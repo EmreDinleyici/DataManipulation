{
 "cells": [
  {
   "cell_type": "markdown",
   "id": "61c9e691-7ee9-4e0d-a092-30764e23dee6",
   "metadata": {},
   "source": [
    "# Array Sıralama (Sorting)"
   ]
  },
  {
   "cell_type": "code",
   "execution_count": 2,
   "id": "78ad1369-580f-4527-9475-74d32160b2cf",
   "metadata": {},
   "outputs": [],
   "source": [
    "import numpy as np"
   ]
  },
  {
   "cell_type": "code",
   "execution_count": 3,
   "id": "c7d7d39b-ad97-4dd8-a2b1-b8895f9b72d3",
   "metadata": {},
   "outputs": [
    {
     "data": {
      "text/plain": [
       "array([ 7,  3,  1, 11, 20,  2,  5,  0])"
      ]
     },
     "execution_count": 3,
     "metadata": {},
     "output_type": "execute_result"
    }
   ],
   "source": [
    "v = np.array([7, 3, 1, 11, 20, 2, 5, 0])\n",
    "v"
   ]
  },
  {
   "cell_type": "code",
   "execution_count": 4,
   "id": "0a4b7d77-bf93-4009-912a-fbadd100b67c",
   "metadata": {},
   "outputs": [
    {
     "data": {
      "text/plain": [
       "array([ 0,  1,  2,  3,  5,  7, 11, 20])"
      ]
     },
     "execution_count": 4,
     "metadata": {},
     "output_type": "execute_result"
    }
   ],
   "source": [
    "# numpy içinden çağırılan sort metodu orjinali bozmaz yeniden atama yapılmadığı sürece\n",
    "np.sort(v)"
   ]
  },
  {
   "cell_type": "code",
   "execution_count": 5,
   "id": "2b291fcb-7057-4fe5-96a7-2b36989e8bdd",
   "metadata": {},
   "outputs": [
    {
     "data": {
      "text/plain": [
       "array([ 7,  3,  1, 11, 20,  2,  5,  0])"
      ]
     },
     "execution_count": 5,
     "metadata": {},
     "output_type": "execute_result"
    }
   ],
   "source": [
    "v"
   ]
  },
  {
   "cell_type": "code",
   "execution_count": 6,
   "id": "36e39c41-3b4c-43f3-9afb-408ff58cc3ac",
   "metadata": {},
   "outputs": [],
   "source": [
    "# numpy içinden olmayan sort metodu ise yapıyı tamamen bozar\n",
    "v.sort()"
   ]
  },
  {
   "cell_type": "code",
   "execution_count": 7,
   "id": "1442ba43-6974-4199-8516-2a3e2e86c39f",
   "metadata": {},
   "outputs": [
    {
     "data": {
      "text/plain": [
       "array([ 0,  1,  2,  3,  5,  7, 11, 20])"
      ]
     },
     "execution_count": 7,
     "metadata": {},
     "output_type": "execute_result"
    }
   ],
   "source": [
    "v"
   ]
  },
  {
   "cell_type": "markdown",
   "id": "c59af2a3-9a0a-46ea-b834-1405dde40f32",
   "metadata": {},
   "source": [
    "## İki Boyutlu Sıralama"
   ]
  },
  {
   "cell_type": "code",
   "execution_count": 9,
   "id": "66c69885-ccf6-4473-a0c3-5145582aefdb",
   "metadata": {},
   "outputs": [
    {
     "data": {
      "text/plain": [
       "array([[19.05289715, 17.99793884, 17.50903053],\n",
       "       [18.34818839, 21.17769152, 12.88484069],\n",
       "       [23.38998563, 15.02980821, 13.79482539]])"
      ]
     },
     "execution_count": 9,
     "metadata": {},
     "output_type": "execute_result"
    }
   ],
   "source": [
    "m = np.random.normal(20, 5, (3,3))\n",
    "m"
   ]
  },
  {
   "cell_type": "code",
   "execution_count": 10,
   "id": "9afc7e2c-f7e9-4e6b-b8ee-a74659d1c85c",
   "metadata": {},
   "outputs": [
    {
     "data": {
      "text/plain": [
       "array([[17.50903053, 17.99793884, 19.05289715],\n",
       "       [12.88484069, 18.34818839, 21.17769152],\n",
       "       [13.79482539, 15.02980821, 23.38998563]])"
      ]
     },
     "execution_count": 10,
     "metadata": {},
     "output_type": "execute_result"
    }
   ],
   "source": [
    "# Satıra göre sıralama yapar axis = 1\n",
    "np.sort(m, axis=1)"
   ]
  },
  {
   "cell_type": "code",
   "execution_count": 11,
   "id": "7e87caab-26db-4e86-b62a-86037aaaa655",
   "metadata": {},
   "outputs": [
    {
     "data": {
      "text/plain": [
       "array([[18.34818839, 15.02980821, 12.88484069],\n",
       "       [19.05289715, 17.99793884, 13.79482539],\n",
       "       [23.38998563, 21.17769152, 17.50903053]])"
      ]
     },
     "execution_count": 11,
     "metadata": {},
     "output_type": "execute_result"
    }
   ],
   "source": [
    "# Sütuna göre sıralama yapar axis = 0\n",
    "np.sort(m, axis=0)"
   ]
  }
 ],
 "metadata": {
  "kernelspec": {
   "display_name": "Python 3 (ipykernel)",
   "language": "python",
   "name": "python3"
  },
  "language_info": {
   "codemirror_mode": {
    "name": "ipython",
    "version": 3
   },
   "file_extension": ".py",
   "mimetype": "text/x-python",
   "name": "python",
   "nbconvert_exporter": "python",
   "pygments_lexer": "ipython3",
   "version": "3.12.4"
  }
 },
 "nbformat": 4,
 "nbformat_minor": 5
}
