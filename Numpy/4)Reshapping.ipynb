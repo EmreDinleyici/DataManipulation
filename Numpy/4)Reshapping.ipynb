{
 "cells": [
  {
   "cell_type": "markdown",
   "id": "d41f46e5-52fb-467d-898c-10d31ba861c7",
   "metadata": {},
   "source": [
    "# Yeniden Şekilldendirme(Reshapping)"
   ]
  },
  {
   "cell_type": "code",
   "execution_count": 2,
   "id": "e4cf414b-e075-4d82-bb55-b33ab7a3a6f2",
   "metadata": {},
   "outputs": [],
   "source": [
    "import numpy as np"
   ]
  },
  {
   "cell_type": "code",
   "execution_count": 3,
   "id": "6f0bd9ea-db02-49ee-93da-92f63402ee49",
   "metadata": {},
   "outputs": [
    {
     "data": {
      "text/plain": [
       "array([1, 2, 3, 4, 5, 6, 7, 8, 9])"
      ]
     },
     "execution_count": 3,
     "metadata": {},
     "output_type": "execute_result"
    }
   ],
   "source": [
    "a = np.arange(1,10)\n",
    "a"
   ]
  },
  {
   "cell_type": "code",
   "execution_count": 4,
   "id": "0f6ca053-c73b-40d2-9a88-483510624b97",
   "metadata": {},
   "outputs": [
    {
     "data": {
      "text/plain": [
       "1"
      ]
     },
     "execution_count": 4,
     "metadata": {},
     "output_type": "execute_result"
    }
   ],
   "source": [
    "a.ndim"
   ]
  },
  {
   "cell_type": "code",
   "execution_count": 5,
   "id": "261b99e2-c5a6-4e78-a2dc-fb5d54fa6af9",
   "metadata": {},
   "outputs": [],
   "source": [
    "a = a.reshape(3,3)"
   ]
  },
  {
   "cell_type": "code",
   "execution_count": 6,
   "id": "017df0d8-11cd-4248-91ce-7c205d3edb1c",
   "metadata": {},
   "outputs": [
    {
     "data": {
      "text/plain": [
       "array([[1, 2, 3],\n",
       "       [4, 5, 6],\n",
       "       [7, 8, 9]])"
      ]
     },
     "execution_count": 6,
     "metadata": {},
     "output_type": "execute_result"
    }
   ],
   "source": [
    "np.arange(1,10).reshape(3,3)"
   ]
  },
  {
   "cell_type": "code",
   "execution_count": 7,
   "id": "e648fce9-0453-4f55-b5dd-31aff5de78b8",
   "metadata": {},
   "outputs": [
    {
     "data": {
      "text/plain": [
       "2"
      ]
     },
     "execution_count": 7,
     "metadata": {},
     "output_type": "execute_result"
    }
   ],
   "source": [
    "a.ndim"
   ]
  }
 ],
 "metadata": {
  "kernelspec": {
   "display_name": "Python 3 (ipykernel)",
   "language": "python",
   "name": "python3"
  },
  "language_info": {
   "codemirror_mode": {
    "name": "ipython",
    "version": 3
   },
   "file_extension": ".py",
   "mimetype": "text/x-python",
   "name": "python",
   "nbconvert_exporter": "python",
   "pygments_lexer": "ipython3",
   "version": "3.12.4"
  }
 },
 "nbformat": 4,
 "nbformat_minor": 5
}
