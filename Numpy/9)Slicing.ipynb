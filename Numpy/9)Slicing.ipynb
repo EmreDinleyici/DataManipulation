{
 "cells": [
  {
   "cell_type": "markdown",
   "id": "ab0c1544-9651-4a00-834a-d0151e121686",
   "metadata": {},
   "source": [
    "# Slicing(Kesme) ile elemanlara erişmek(Array alt kümesine erişmek)"
   ]
  },
  {
   "cell_type": "code",
   "execution_count": 2,
   "id": "c10c74c3-8cda-4e6c-a4e1-ab9d6fd488eb",
   "metadata": {},
   "outputs": [],
   "source": [
    "import numpy as np"
   ]
  },
  {
   "cell_type": "code",
   "execution_count": 3,
   "id": "8c8c2e0a-80d3-4d5e-8ab0-f6c6c383144c",
   "metadata": {},
   "outputs": [
    {
     "data": {
      "text/plain": [
       "array([20, 21, 22, 23, 24, 25, 26, 27, 28, 29])"
      ]
     },
     "execution_count": 3,
     "metadata": {},
     "output_type": "execute_result"
    }
   ],
   "source": [
    "a = np.arange(20,30)\n",
    "a"
   ]
  },
  {
   "cell_type": "code",
   "execution_count": 4,
   "id": "ca0229dd-5ab5-4ce2-b38e-0f66bc10e889",
   "metadata": {},
   "outputs": [
    {
     "data": {
      "text/plain": [
       "array([20, 21, 22])"
      ]
     },
     "execution_count": 4,
     "metadata": {},
     "output_type": "execute_result"
    }
   ],
   "source": [
    "a[0:3]"
   ]
  },
  {
   "cell_type": "code",
   "execution_count": 5,
   "id": "c51ee512-f41f-4619-8ebc-7b8029d798ce",
   "metadata": {},
   "outputs": [
    {
     "data": {
      "text/plain": [
       "array([20, 21, 22])"
      ]
     },
     "execution_count": 5,
     "metadata": {},
     "output_type": "execute_result"
    }
   ],
   "source": [
    "a[:3]"
   ]
  },
  {
   "cell_type": "code",
   "execution_count": 6,
   "id": "8d22ec84-e2e3-4bed-ba8e-0894a5895513",
   "metadata": {},
   "outputs": [
    {
     "data": {
      "text/plain": [
       "array([23, 24, 25, 26, 27, 28, 29])"
      ]
     },
     "execution_count": 6,
     "metadata": {},
     "output_type": "execute_result"
    }
   ],
   "source": [
    "a[3:]"
   ]
  },
  {
   "cell_type": "code",
   "execution_count": 7,
   "id": "4d4dc9cf-358e-4d29-8bfe-de8e0e41e656",
   "metadata": {},
   "outputs": [
    {
     "data": {
      "text/plain": [
       "array([21, 23, 25, 27, 29])"
      ]
     },
     "execution_count": 7,
     "metadata": {},
     "output_type": "execute_result"
    }
   ],
   "source": [
    "a[1::2]"
   ]
  },
  {
   "cell_type": "markdown",
   "id": "28fc5e5d-da86-4c50-b4db-5dbda2280845",
   "metadata": {},
   "source": [
    "## İki boyutlu slicing işlemleri"
   ]
  },
  {
   "cell_type": "code",
   "execution_count": 9,
   "id": "693721cb-95c1-4204-b7ff-01f562862984",
   "metadata": {},
   "outputs": [
    {
     "data": {
      "text/plain": [
       "array([[5, 6, 6, 6, 8],\n",
       "       [5, 1, 9, 4, 2],\n",
       "       [4, 5, 2, 7, 8],\n",
       "       [8, 3, 3, 8, 2],\n",
       "       [9, 3, 5, 3, 9]])"
      ]
     },
     "execution_count": 9,
     "metadata": {},
     "output_type": "execute_result"
    }
   ],
   "source": [
    "m = np.random.randint(10, size= (5,5))\n",
    "m"
   ]
  },
  {
   "cell_type": "code",
   "execution_count": 10,
   "id": "b759b2a0-66c7-404f-a7af-4941a08c1e2d",
   "metadata": {},
   "outputs": [
    {
     "data": {
      "text/plain": [
       "array([5, 5, 4, 8, 9])"
      ]
     },
     "execution_count": 10,
     "metadata": {},
     "output_type": "execute_result"
    }
   ],
   "source": [
    "# ilk kısım satırları(row) temsil eder. Hiçbir şey girilmezse bütün satırları al demektir\n",
    "# ikinci kısım sütunları(column) temsil eder.\n",
    "m[:,0]"
   ]
  },
  {
   "cell_type": "code",
   "execution_count": 11,
   "id": "7ea0f395-57b0-4b42-b607-a7651a2c5b2b",
   "metadata": {},
   "outputs": [
    {
     "data": {
      "text/plain": [
       "array([6, 1, 5, 3, 3])"
      ]
     },
     "execution_count": 11,
     "metadata": {},
     "output_type": "execute_result"
    }
   ],
   "source": [
    "m[:,1]"
   ]
  },
  {
   "cell_type": "code",
   "execution_count": 12,
   "id": "fb6a9010-09c9-49dc-a648-15d49349ebb1",
   "metadata": {},
   "outputs": [
    {
     "data": {
      "text/plain": [
       "array([[5, 6, 6, 6, 8],\n",
       "       [5, 1, 9, 4, 2],\n",
       "       [4, 5, 2, 7, 8],\n",
       "       [8, 3, 3, 8, 2],\n",
       "       [9, 3, 5, 3, 9]])"
      ]
     },
     "execution_count": 12,
     "metadata": {},
     "output_type": "execute_result"
    }
   ],
   "source": [
    "m"
   ]
  },
  {
   "cell_type": "code",
   "execution_count": 13,
   "id": "2f0bf0a1-4597-4f44-8c4d-56cb05456ae5",
   "metadata": {},
   "outputs": [
    {
     "data": {
      "text/plain": [
       "array([5, 6, 6, 6, 8])"
      ]
     },
     "execution_count": 13,
     "metadata": {},
     "output_type": "execute_result"
    }
   ],
   "source": [
    "m[0,:]"
   ]
  },
  {
   "cell_type": "code",
   "execution_count": 14,
   "id": "c1f73637-ba63-4626-b46d-5c01b2ff5471",
   "metadata": {},
   "outputs": [
    {
     "data": {
      "text/plain": [
       "array([[5, 6],\n",
       "       [5, 1],\n",
       "       [4, 5]])"
      ]
     },
     "execution_count": 14,
     "metadata": {},
     "output_type": "execute_result"
    }
   ],
   "source": [
    "m[:3,:2]"
   ]
  },
  {
   "cell_type": "code",
   "execution_count": 15,
   "id": "c5b5b6a5-f66f-4fbc-b659-c4c0f62b45ea",
   "metadata": {},
   "outputs": [
    {
     "data": {
      "text/plain": [
       "array([[5, 6, 6],\n",
       "       [5, 1, 9]])"
      ]
     },
     "execution_count": 15,
     "metadata": {},
     "output_type": "execute_result"
    }
   ],
   "source": [
    "m[0:2, 0:3]"
   ]
  },
  {
   "cell_type": "code",
   "execution_count": null,
   "id": "b642ad84-bc66-4b38-bfe2-263e5c847215",
   "metadata": {},
   "outputs": [],
   "source": []
  }
 ],
 "metadata": {
  "kernelspec": {
   "display_name": "Python 3 (ipykernel)",
   "language": "python",
   "name": "python3"
  },
  "language_info": {
   "codemirror_mode": {
    "name": "ipython",
    "version": 3
   },
   "file_extension": ".py",
   "mimetype": "text/x-python",
   "name": "python",
   "nbconvert_exporter": "python",
   "pygments_lexer": "ipython3",
   "version": "3.12.4"
  }
 },
 "nbformat": 4,
 "nbformat_minor": 5
}
